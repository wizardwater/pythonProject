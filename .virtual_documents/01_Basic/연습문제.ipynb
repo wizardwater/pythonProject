# 성별, 이메일, 출생년도 입력받기
# 조건: customer 딕셔너리가 생겨야함

gender ='M'
email = "sss3@naver.com" # @ 존재 파악 re로
birth = int(input("4자리로 입력하시오"))


customer= {"Gender" : gender, "Email" : email, "Birthday": birth}



# 성별 입력 코드 완성
while True:
    gender= input("성별을 입력해주세요 M / F").upper()

    if gender in ('M', 'F'):
        break


# 이메일 형식일때만 리스트에 들어감?  eie@gga >> 그대로 나옴 / banana >> []
import re
re.findall(r'[\w-]+@[\w.]+', "banana@ddd.d")


# 이메일 입력 코드 완성
while True:
    email = input()
    conf =re.search('@',email)

    if conf:
        break
    else: print("'@'를 포함하세요")


while true:
    


# 잘 되는 지 확인

while True:
    gender= input("성별을 입력해주세요 M / F").upper()

    if gender in ('M', 'F'):
        break
        
while True:
    email = input("이메일을 입력해주세요")
    conf =re.search('@',email)

    if conf:
        break
    else: print("'@'를 포함하세요")

while True:
    birth = input("생년월일을 4자리로 입력해주세요")
    if len(birth) == 4:
        break


customer= {"Gender" : gender, "Email" : email, "Birthday": birth}
custlist.append(customer)


# int(birth) 하면 203 으로 나와요 >> 고치는방법?
customer



custlist.append(customer)


custlist[0]['Email']


for a in range(len(custlist)):
    li_E =custlist[a]['Email']

if 'eww@nad' in li_E:
    print("잇습니다")


del_email = "eww@nad"
for a in range(len(custlist)):
    if del_email ==custlist[a]['Email']:
        del custlist[a]
        delok =1
if delok == 0:
    print("등록되지 않은 정보입니다.")


 while True:
    choice =input("선택")

    if choice == "exit":
        print("종료하겠습니다")
        break


# def 를 사용하기

# while 안에서 함수사용하기
# 함수 안에서 while 쓰기.

import re
def e_mail(x):
    while True:
        email = input()
        conf =re.search('@',email)

        if conf:
            break
        else: print("'@'를 포함하세요")
    
e_mail(1)


# while 안에서 함수사용하기

def confirm(x):
    if x:
        return break
    else: print("'@'를 포함하세요")

while True:
    email = input()
    conf =re.search('@',email)
    confirm(conf)

# 이게 안되네...



import re

def print_menu():
    print('''
    다음 중에서 하실 일을 골라주세요 :
    I - 고객 정보 입력
    C - 현재 고객 정보 조회
    P - 이전 고객 정보 조회
    N - 다음 고객 정보 조회
    U - 고객 정보 수정
    D - 고객 정보 삭제
    Q - 프로그램 종료 ''')

def gender_():
    while True:
        gender= input("성별을 입력해주세요 M / F").upper()

        if gender in ('M', 'F'):
            break
    return gender
def email_():
    while True:
        email = input("이메일을 입력해주세요")
        conf =re.search('@',email)

        if conf:
            break
        else: print("'@'를 포함하세요")
    return email

def birth_():
    while True:
        birth = input("생일을 4자리로 입력해주세요")
        if len(birth) == 4:
            break
    return birth
    

def new_customer():  # 성별 /이메일/ 생일 받기
    gender = gender_()
    email = email_()
    birth = birth_()

    customer= {"Gender" : gender, "Email" : email, "Birthday": birth}
    custlist.append(customer)
    


def customer_info(x):   # 현재 고객 -> 마지막 고객을 보여줌. 그럼 다음 고객 정보는 의미없는거아냐?
    if page >=0:
        if x == 1:
            print("현재 고객 정보 조회")
            print(custlist[page])
            print(f"현재 페이지는 {page+1} 입니다")
        if x == 2:
            print("이전 고객 정보 조회")
            if page == 0:
                print(custlist[page])
            else: print(custlist[page-1])
        if x == 3:
            print("다음 고객 정보 조회")
            apa = 0
            if page == page:
                apa = -1
            print(custlist[page+1+apa])

    else : print("아직 고객 정보가 없습니다")

def ex_amend():
    while True:
        choice=input('''
            그 외에 수정할 정보를 선택해 주세요 :
            G : 성별 수정
            B : 생년월일 수정
            Exit : 프로그램 종료 ''').upper()
        
        if choice=="G":
            custlist[idx]['Gender']=gender_()
                    
        elif choice=="B":
            custlist[idx]['Birthday']=birth_()
                        
        elif choice=="EXIT":
            print("수정창 종료")
            break

def amend_customer():
    idx = -1 
    print("고객 정보 수정")
    new_email = input("수정할 이메일 주소를 입력해주세요")
    for a in range(len(custlist)):
        if new_email == custlist[a]['Email']:
            idx = a
    if idx ==-1:
        print("등록되지 않은 정보입니다.") 
    else:
        email = email_()
        custlist[idx]['Email'] = email
        ex_amend()


def del_customer():
    print("고객 정보 삭제")
    delok = 0
    del_email = input("정보 삭제를 위해서 이메일 주소를 입력해주세요 ") # 동일한 이메일 주소를 가진 고객정보 삭제
    for a in range(len(custlist)):
        if del_email ==custlist[a]['Email']:
            del custlist[a]
            delok = 1
    if delok == 0:  # for문을 돌리고도 찾지 못했을 경우가 0
        print("등록되지 않은 정보입니다.")
    elif delok ==1: # page 1번을 삭제 했을 경우 >> 남은 페이지가 없으므로 page = -1
        if a ==0:
            page = -1
        else: page = len(custlist) -1

# 계속 실행할 while 문

page = -1
custlist = []
cmd = 0
while cmd != 'Q':
    print_menu()
    cmd = input().upper()
    if cmd == 'I':
        new_customer()  # 성별 /이메일/ 생년월일 받기
        page += 1
    elif cmd == 'C':
        customer_info(1)
    elif cmd == 'P':
        customer_info(2)
    elif cmd == 'N':
        customer_info(3)
    elif cmd == 'U':
        amend_customer()
    elif cmd == 'D':
        del_customer()


# I 입력 > 수정 > 삭제 한 뒤에 페이지는 어떻게 없애냐?





import re


# 클래스의 장점 여러개의 함수를 한번에 사용할때 매우 편리하다.
# 또 클래스 안의 각각의 함수를 가져오기에도 좋다.
# 고객의 정보 userinfo 를 가져오는 클래스를 확인해보자.
# 클래스가 실행될때 어떤식으로 실행되기를 원하시나요?
# def __init__(self) 안에서 작성할 수 있다.
# class 안에 있는 함수(성별, 이메일, 생일) 을 각각 slef. 으로 실행해주세요
# 그 값을 self.gender 형태에 저장을 해주세요
# gender값을 불러오려면 >> UserInfo.gender 형태로 불러올수 있습니다.

class UserInfo:
    def __init__(self):
        self.gender = self.get_gender()
        self.email = self.get_email()
        self.birth_year = self.get_birth_year()

    # self.~~ 로 3개의 인스턴스 변수를 초기화하고, 함수에서 실행된 값을 저장합니다.
    
    def get_gender(self):
        while True:
            gender = input("성별을 입력해주세요 M / F: ").upper()
            if gender in ('M', 'F'):
                return gender

    def get_email(self):
        while True:
            email = input("이메일을 입력해주세요: ")
            if re.search('@', email):
                return email
            else:
                print("'@'를 포함하세요")

    def get_birth_year(self):
        while True:
            birth_year = input("생년월일을 4자리로 입력해주세요: ")
            if len(birth_year) == 4:
                return birth_year

# 사용 예시
user_info = UserInfo()

# 저장한 값을 다시 한번 user_info에다가 넣었구요.
# gender값을 불러오려면 >> user_info.gender 식으로 사용할 수 있다.

print(f'''성별: {user_info.gender}, 이메일: {user_info.email}, 
        생년월일: {user_info.birth_year}''')


import re

class UserInfo:
    def __init__(self):
        self.gender = self.get_gender()
        self.email = self.get_email()
        self.birth = self.get_birth()
        self.customer = {"Gender" : self.gender, "Email" : self.email, "Birthday": self.birth}
        custlist.append(self.customer)
        
    def get_gender(self):
        while True:
            gender= input("성별을 입력해주세요 M / F").upper()

            if gender in ('M', 'F'):
                break
        return gender
    def get_email(self):
        while True:
            email = input("이메일을 입력해주세요")
            conf =re.search('@',email)

            if conf:
                break
            else: print("'@'를 포함하세요")
        return email

    def get_birth(self):
        while True:
            birth = input("생일을 4자리로 입력해주세요")
            if len(birth) == 4:
                break
        return birth
         

custlist=[]
user_info =UserInfo()


custlist




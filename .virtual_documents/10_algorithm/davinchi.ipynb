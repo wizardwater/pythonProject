











n = int(input("구구단 출력입니다. 몇 단을 출력할까요? "))

if n in range(2,18+1):
    for a in range(1,9+1):    
        print(f"{n} X {a} = {n*a}")
else: print("2 ~ 18단까지만 지원합니다")


# 2에서 9단까지 전부 보여주기

for n in range(2,9+1):
    print("br")
    for a in range(1,9+1):    # 1부터 9 까지
        print(f"{n} X {a} = {n*a}")


# 데이터 프레임으로 만들 수 있는가?
import pandas as pd

values = [[1, 2, 3], [4, 5, 6], [7, 8, 9]]
index = ['one', 'two', 'three']
columns = ['A', 'B', 'C']

df = pd.DataFrame(values, index=index, columns=columns)
print(df)


index = list(range(1,10))*2
index


index = [1, 2, 3, 4, 5, 6, 7, 8, 9, 0, 1, 2, 3, 4, 5, 6, 7, 8, 9]
columns = ["2","3","4","5"]


values = []
for a in range(1,10):
    x = []
    for n in range(2,5+1):
        x.append(f"{n} X {a} = {n*a}")
    values.append(x)
values.append(['6','7','8','9'])
for a in range(1,10):
    x = []
    for n in range(6,9+1):
        x.append(f"{n} X {a} = {n*a}")
    values.append(x)
values


df = pd.DataFrame(values, index=index, columns=columns)
print(df)





n,m = map(int,input().split()) # 가로 n x m

for a in range(m):
    print("*"*x)


n = int(input())
for x in range(1,n+1):
    print(" "*(n-x) +"* "*x) 








num1 =1
num2 =1

for a in range(10):
    new=num1+num2
    print(new)
    num1=num2
    num2=new





# 점수 구하기
score = 0
num1 = [3,2,9,5,7]
num2 = [6,7,4,8,9]

for a in range(5):
    result = int(input(f" {num1[a]} x {num2[a]} = ? "))
    if result == num1[a] * num2[a]:
        print("맞았습니다")
        score +=20
    else:
        print("틀렸습니다")
print(f"100점 만점에 점수는 {score}점 입니다")





import random 
num = random.randint(1, 9)
print(num)


random.randrange(0, 100, 1)
#random.randint(0,100)


score = 0
for a in range(5):
    a = random.randint(2,9)   # 랜덤 인수 
    b = random.randint(1,9)
    result = int(input(f" {a} x {b} = ? "))
    if result == a * b:
        print("맞았습니다")
        score +=20
    else:
        print("틀렸습니다")
print(f"100점 만점에 점수는 {score}점 입니다")











idol = ['카리나','윈터','닝닝', '민주']


a.remove('닝닝')  # 항목으로 지우는 것 > 항목이 있는지를 확인해야한다.
del a[1] # index로 지운다 > index 범위를 확인해야하고


# 즉 카리나를 지우고싶으면
result = 0
if "카리나" in idol:
    result = 1
if result ==1:
    idol.remove('카리나')
else: print("없음")
print(idol)





answer =[]
import numpy as np
arr = np.array([1,2,3,4,5,5,5])
for a in range(len(arr)):
    answer.append(int(arr[a]))
answer


def solution(arr):
    answer = []
    
    for a in range(len(arr)):
        answer.append(arr[a])
        if arr[a] == arr[a-1]:
            answer.pop()
    return answer


solution(arr)

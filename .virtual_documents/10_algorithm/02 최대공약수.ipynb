








n = 5
m = 20


for a in range(1,n+1)[::-1]:
    if m % a == 0:
        break
print(a)













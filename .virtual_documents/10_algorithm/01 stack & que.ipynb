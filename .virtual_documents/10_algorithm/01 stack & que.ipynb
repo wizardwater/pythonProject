


























# queue 를 사용하기 위해서 모듈을 불러오자.
import queue

data = queue.Queue()      # 큐 모듈의 큐 클래스를 데이터에 넣는다.
print(type(data))     # 데이터의 type은 클래스이다.


#선언 된 큐 객체에 3개 데이터 입력하기 : 2,5,8
data.put(1)
data.put(3)
data.put(5)

#큐 객체에서 입력된 객체 하나씩 꺼내기 :FIFO
print(data.get())





print(data.get())





# 리스트로 만들면 쉽게 할 수 있다.
stack = []

stack.append(2) 
stack.append(3)
stack.append(5)

print(stack.pop())





print(stack.pop())
print(stack.pop())

















n = 9   # 현재 대기열에 9명이 서있습니다

stack = []

for a in range(1,n+1)[::-1]:
    stack.append(a)

stack


stack.pop()

















from collections import deque

dq= deque()

for a in range(10):
    dq.append(a)

for a in range(2):
    print(dq.popleft())
    print(dq.pop())
    



# 앞 뒤로 데이터를 넣을 때 
from collections import deque

dq = deque()
dq.append(1)  # 데이터를 뒤로 넣을 때입니다.
dq.appendleft(2)  # dq에 앞으로 데이터 넣기
dq.append(3)

print(dq)  # deque([2,1,3])

print(dq.pop()) # 맨뒤의 데이터를 꺼낸다. >> 3
print(dq.popleft())  # dq의 맨앞의 데이터를 꺼낸다. >> 2





from collections import deque

def print_menu():
    print("1. 대기 번호 등록")
    print("2. 대기 번호 보기")
    print("3. 대기 명단 보기")
    print("4. 대기 번호 호출")
    print("5. 프로그램 종료")

def insert_list():
    number = input("대기 번호를 입력 하세요")
    wating_list.append(number)
    print(f"현재 대기 인원은 {len(wating_list)}명 입니다.")

def show_my_list():
    number = input("대기 순번을 확인 할 번호를 입력 하세요")
    if number in wating_list: 
        cnt = wating_list.index(number)
        print(f'{cnt+1} 번째 대기중 입니다.')
    else:
        print("대기 번호가 존재하지 않습니다.")
        
def show_all_list():
    if wating_list:
        print(*wating_list, sep="\n")
    else:
        print("대기 명단이 없습니다.")

def call_list():
    next = wating_list.popleft()
    print(f'{next}님 입장하세요.')

wating_list = deque()
cmd = 1
while cmd != 6:
    print_menu()    # 메뉴를 처음에 보여줍니다.
    cmd = int(input())  # cmd를 받아서 cmd 받은 쪽의 함수를 실행합니다.
    if cmd == 1:
        insert_list()
    elif cmd == 2:
        show_my_list()
    elif cmd == 3:
        show_all_list()
    elif cmd == 4:
        call_list()
    elif cmd == 5:
        break 


n = int(input("구구단 출력입니다. 몇 단을 출력할까요? : "))

if n in range(2,9+1):
    for a in range(1,9+1):    
        print(f"{n} X {a} = {n*a}")










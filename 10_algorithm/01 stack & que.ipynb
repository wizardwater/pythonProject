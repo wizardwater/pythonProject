{
 "cells": [
  {
   "cell_type": "markdown",
   "id": "bf1bfeca-666f-4ad3-95ff-3a755de22273",
   "metadata": {
    "jp-MarkdownHeadingCollapsed": true
   },
   "source": [
    "## 용어정리"
   ]
  },
  {
   "cell_type": "markdown",
   "id": "23bdeda5-1622-41c7-ab7c-d952f5fe0433",
   "metadata": {},
   "source": [
    "시간 복잡도 O(1)은 알고리즘의 실행 시간이 입력 크기와 상관없이   \n",
    "항상 일정하다는 것을 의미합니다.   \r\n",
    "이를 \"상수 시간 복잡도\"라고도 합니다.니다 않습니다"
   ]
  },
  {
   "cell_type": "markdown",
   "id": "5866434b-5b35-4a58-a0b9-2bf8388920d9",
   "metadata": {},
   "source": [
    "즉,  입력 데이터의 크기가 커져도   \n",
    "알고리즘을 실행하는 데 필요한 시간이 변하지 않아요."
   ]
  },
  {
   "cell_type": "markdown",
   "id": "9f3bc066-93ce-41e1-9a28-74a376e505d8",
   "metadata": {},
   "source": [
    "파이썬에서 적절한 예는 리스트, 딕셔너리 가 있습니다.  \n",
    "리스트에서 특정 index를 조회하는 것과, 딕셔너리에서 키으로 값을 찾는 경우입니다."
   ]
  },
  {
   "cell_type": "code",
   "execution_count": null,
   "id": "c727b93a-0414-4bd8-86aa-d662365d243c",
   "metadata": {},
   "outputs": [],
   "source": []
  },
  {
   "cell_type": "markdown",
   "id": "5ec1f197-35a4-4c30-83bc-4bae378ce4ba",
   "metadata": {},
   "source": [
    "## 스택과 큐"
   ]
  },
  {
   "cell_type": "markdown",
   "id": "6c216c43-7975-4311-9115-81c4dc934f13",
   "metadata": {},
   "source": [
    "배열도 파이썬의 자료구조이다.  \n",
    "그 밖의 대표적인 자료구조는 스택 & 큐가 있다.  \n",
    "스택은 LIFO 라고 하며 last in, first out  \n",
    "큐는 FIFO 라고 하며, first in, first out. 이라고 한다.  \n",
    "영어를 보면 느낌이 올 것이다.  \n",
    "스택은 마지막이 먼저 들어가서 5 4 3 2 1 로 쌓인다고 보면된다.  \n",
    "나올때는 1 2 3 4 5 로 나온다."
   ]
  },
  {
   "cell_type": "markdown",
   "id": "8fb5a323-b8f5-4bbb-98cb-ed68ceb4f3b5",
   "metadata": {},
   "source": [
    "큐는 어떨까? 1 2 3 4 5 로 넣어서, 1 2 3 4 5 로 나온다."
   ]
  },
  {
   "cell_type": "markdown",
   "id": "2b0ba344-0b46-4909-8c52-009a646154ea",
   "metadata": {},
   "source": [
    "추가로 알아야할 용어는 Enqueue 와 Dequeue 이다."
   ]
  },
  {
   "cell_type": "code",
   "execution_count": 1,
   "id": "d3be4158-2e3a-4f9a-9490-485aa9092e4e",
   "metadata": {},
   "outputs": [
    {
     "name": "stdout",
     "output_type": "stream",
     "text": [
      "<class 'queue.Queue'>\n"
     ]
    }
   ],
   "source": [
    "# queue 를 사용하기 위해서 모듈을 불러오자.\n",
    "import queue\n",
    "\n",
    "data = queue.Queue()      # 큐 모듈의 큐 클래스를 데이터에 넣는다.\n",
    "print(type(data))     # 데이터의 type은 클래스이다."
   ]
  },
  {
   "cell_type": "code",
   "execution_count": 2,
   "id": "7c41965e-7898-4487-a36e-e0663b8431ae",
   "metadata": {},
   "outputs": [
    {
     "name": "stdout",
     "output_type": "stream",
     "text": [
      "1\n"
     ]
    }
   ],
   "source": [
    "#선언 된 큐 객체에 3개 데이터 입력하기 : 2,5,8\n",
    "data.put(1)\n",
    "data.put(3)\n",
    "data.put(5)\n",
    "\n",
    "#큐 객체에서 입력된 객체 하나씩 꺼내기 :FIFO\n",
    "print(data.get())"
   ]
  },
  {
   "cell_type": "markdown",
   "id": "8fb7e076-e88e-4c17-a978-477bef04797f",
   "metadata": {},
   "source": [
    "다음은 어떤 값이 나올까?  \n",
    "넣은 순서대로 나오니까 3입니다"
   ]
  },
  {
   "cell_type": "code",
   "execution_count": 3,
   "id": "994a408a-5e98-43a4-9bfc-fd5947d62aed",
   "metadata": {},
   "outputs": [
    {
     "name": "stdout",
     "output_type": "stream",
     "text": [
      "3\n"
     ]
    }
   ],
   "source": [
    "print(data.get())"
   ]
  },
  {
   "cell_type": "markdown",
   "id": "997351d8-3370-473a-832f-a0393bed08b0",
   "metadata": {},
   "source": [
    "스택은 나중에 입력된 데이터가 먼저 출력되는 LOFO형 자료 구조이다.  \n",
    "잘 알고있는 하노이탑 게임이랑 비슷하다.  \n",
    "스택에서는 PUSH 와 POP 이라는 용어가 있는데  \n",
    "PUSH: 데이터를 입력  \n",
    "POP : 데이터를 꺼내기 (제일 마지막으로 입력된 데이터부터)"
   ]
  },
  {
   "cell_type": "code",
   "execution_count": 9,
   "id": "29a1c2db-f266-453b-be0d-8589b1ed01e0",
   "metadata": {},
   "outputs": [
    {
     "name": "stdout",
     "output_type": "stream",
     "text": [
      "5\n"
     ]
    }
   ],
   "source": [
    "# 리스트로 만들면 쉽게 할 수 있다.\n",
    "stack = []\n",
    "\n",
    "stack.append(2) \n",
    "stack.append(3)\n",
    "stack.append(5)\n",
    "\n",
    "print(stack.pop())"
   ]
  },
  {
   "cell_type": "markdown",
   "id": "df902f70-a461-48dd-a1ce-e085fc99f147",
   "metadata": {},
   "source": [
    "그 다음 값은 어떻게 되나요?  \n",
    "3입니다."
   ]
  },
  {
   "cell_type": "code",
   "execution_count": 10,
   "id": "bb589e86-e12c-4781-822e-f58652626361",
   "metadata": {},
   "outputs": [
    {
     "name": "stdout",
     "output_type": "stream",
     "text": [
      "3\n"
     ]
    }
   ],
   "source": [
    "print(stack.pop())\n",
    "print(stack.pop())"
   ]
  },
  {
   "cell_type": "markdown",
   "id": "d5e47c9b-d75d-4b08-8947-ba5d7bef3bc3",
   "metadata": {},
   "source": [
    "여기서 한번 더하면?  \n",
    "더 이상 접근할 index가 없다고 나옵니다."
   ]
  },
  {
   "cell_type": "markdown",
   "id": "3582005c-cccd-4ad2-a38d-c43db29f934d",
   "metadata": {},
   "source": [
    "아쉬운점   \n",
    "1. 리스트는 index로 사실 뽑아 낼 수 있다.  \n",
    "2. 이게 진짜 스택을 알려주는 좋은 코드인가?"
   ]
  },
  {
   "cell_type": "markdown",
   "id": "b1418bc6-50b7-4ddc-8327-08aba50263e8",
   "metadata": {},
   "source": [
    "good 예제 문제1 ) 대기 번호 호출 알고리즘  \n",
    "1. 대기리스트에서 첫번째 순서를 호출 할 것이다.\n",
    "2. 꺼낸 요소를 리스트에서 삭제한다.\n",
    "\n",
    "이 2가지 과정을 한번에 처리하는 함수가 pop() 입니다.  \n",
    "\n",
    "어? 방금까지 뒤에서부터 pop 하던데요?"
   ]
  },
  {
   "cell_type": "markdown",
   "id": "c176c0dc-5cf3-44ea-be07-e19df6b0f1c2",
   "metadata": {},
   "source": [
    "pop(0)부터 하면 되나요?  \n",
    "물론 할 수 있기는 하지만 리스트의 길이가 길어진다면, 리스트 안에 있는 \n",
    "데이터가 다같이 앞으로 이동하기 때문에 속도가 매우 느려짐."
   ]
  },
  {
   "cell_type": "markdown",
   "id": "4fc1060b-2f21-47f7-ba88-1c1867a38b9b",
   "metadata": {},
   "source": [
    "그러면 어떻게 할까요?  \n",
    "대기 순서번호를 1,2,3,4,5,6,7 부터 쌓아야하지 않나요?  \n",
    "\n",
    "그럼 현재 대기순서가 9 입니다. \n",
    "라고 할때 9부터 순서대로 1까지 넣으면 되나요?"
   ]
  },
  {
   "cell_type": "code",
   "execution_count": 23,
   "id": "7c02ccf8-e643-4c02-b640-06cabc4dac22",
   "metadata": {},
   "outputs": [
    {
     "data": {
      "text/plain": [
       "[9, 8, 7, 6, 5, 4, 3, 2, 1]"
      ]
     },
     "execution_count": 23,
     "metadata": {},
     "output_type": "execute_result"
    }
   ],
   "source": [
    "n = 9   # 현재 대기열에 9명이 서있습니다\n",
    "\n",
    "stack = []\n",
    "\n",
    "for a in range(1,n+1)[::-1]:\n",
    "    stack.append(a)\n",
    "\n",
    "stack"
   ]
  },
  {
   "cell_type": "code",
   "execution_count": 24,
   "id": "fa44b886-ebbc-4609-9407-514fca9979b2",
   "metadata": {},
   "outputs": [
    {
     "data": {
      "text/plain": [
       "1"
      ]
     },
     "execution_count": 24,
     "metadata": {},
     "output_type": "execute_result"
    }
   ],
   "source": [
    "stack.pop()"
   ]
  },
  {
   "cell_type": "markdown",
   "id": "3aa23dd1-3577-40d4-bed2-bf2bcca658f7",
   "metadata": {},
   "source": [
    "스택이 뭐였죠? 54321 > 12345 >> 위에서 꺼내는 느낌   \n",
    "큐가 뭐였죠? 12345 > 12345 >> 아래로 떨어지는 느낌"
   ]
  },
  {
   "cell_type": "markdown",
   "id": "a1ce0fc4-ee18-40af-b2d4-76a56fde4c2b",
   "metadata": {},
   "source": [
    "파이썬에서는 Deque 라는 것을 많이 사용합니다.  \n",
    "파이썬 내장 모듈인 collections 에 있는 것으로   \n",
    "스택과 큐를 합쳐놓은 듯한 자료구조라 생각하면 됩니다."
   ]
  },
  {
   "cell_type": "markdown",
   "id": "da3e9aa4-db5c-4753-a078-ee793add5818",
   "metadata": {},
   "source": [
    "DEQ 는 Double Ended QUEue의 약자입니다.  \n",
    "리스트에 맨 앞에 있는 값을 꺼내고, 그 값을 삭제하기 위해서는  \n",
    "pop(0)을 써야했잖아요.  \n",
    "deque에서는 popleft()를 사용하면 끝납니다 (왼쪽부터 꺼내겠다는 의미네요)"
   ]
  },
  {
   "cell_type": "markdown",
   "id": "6ee52655-da8b-4467-9604-10549e7a69e5",
   "metadata": {},
   "source": [
    "아까처럼 시간이 오래 걸리지도 않습니다. 이를 시간복잡도 O(1) 이라고 한다네요"
   ]
  },
  {
   "cell_type": "markdown",
   "id": "a6f17451-e8eb-432a-8538-8463462d55e4",
   "metadata": {},
   "source": [
    "deque는 앞 뒤로 데이터를 넣을수도 있습니다.   \n",
    "앞에 데이터를 넣을 때에는 appendleft() 함수를 사용합니다.  \n",
    "그럼 deque의 간단한 사용방법을 코드로 알아보겠습니다."
   ]
  },
  {
   "cell_type": "code",
   "execution_count": 6,
   "id": "1fa7b59e-d241-446d-b98d-b2daad8349d5",
   "metadata": {},
   "outputs": [
    {
     "name": "stdout",
     "output_type": "stream",
     "text": [
      "0\n",
      "9\n",
      "1\n",
      "8\n"
     ]
    }
   ],
   "source": [
    "from collections import deque\n",
    "\n",
    "dq= deque()\n",
    "\n",
    "for a in range(10):\n",
    "    dq.append(a)\n",
    "\n",
    "for a in range(2):\n",
    "    print(dq.popleft())\n",
    "    print(dq.pop())\n",
    "    \n"
   ]
  },
  {
   "cell_type": "code",
   "execution_count": 32,
   "id": "b00c860d-b640-4f3a-80f0-81bc71e031f9",
   "metadata": {},
   "outputs": [
    {
     "name": "stdout",
     "output_type": "stream",
     "text": [
      "deque([2, 1, 3])\n",
      "3\n",
      "2\n"
     ]
    }
   ],
   "source": [
    "# 앞 뒤로 데이터를 넣을 때 \n",
    "from collections import deque\n",
    "\n",
    "dq = deque()\n",
    "dq.append(1)  # 데이터를 뒤로 넣을 때입니다.\n",
    "dq.appendleft(2)  # dq에 앞으로 데이터 넣기\n",
    "dq.append(3)\n",
    "\n",
    "print(dq)  # deque([2,1,3])\n",
    "\n",
    "print(dq.pop()) # 맨뒤의 데이터를 꺼낸다. >> 3\n",
    "print(dq.popleft())  # dq의 맨앞의 데이터를 꺼낸다. >> 2"
   ]
  },
  {
   "cell_type": "markdown",
   "id": "96afa4e9-9f67-4630-98f1-c4710085ef92",
   "metadata": {},
   "source": [
    "다시 연습문제로 돌아가봅시다."
   ]
  },
  {
   "cell_type": "code",
   "execution_count": null,
   "id": "93006977-3c1a-49f7-90d1-4fb30d5ff7e7",
   "metadata": {},
   "outputs": [
    {
     "name": "stdout",
     "output_type": "stream",
     "text": [
      "1. 대기 번호 등록\n",
      "2. 대기 번호 보기\n",
      "3. 대기 명단 보기\n",
      "4. 대기 번호 호출\n",
      "5. 프로그램 종료\n"
     ]
    },
    {
     "name": "stdin",
     "output_type": "stream",
     "text": [
      " 1\n",
      "대기 번호를 입력 하세요 1\n"
     ]
    },
    {
     "name": "stdout",
     "output_type": "stream",
     "text": [
      "현재 대기 인원은 1명 입니다.\n",
      "1. 대기 번호 등록\n",
      "2. 대기 번호 보기\n",
      "3. 대기 명단 보기\n",
      "4. 대기 번호 호출\n",
      "5. 프로그램 종료\n"
     ]
    },
    {
     "name": "stdin",
     "output_type": "stream",
     "text": [
      " 1\n",
      "대기 번호를 입력 하세요 2\n"
     ]
    },
    {
     "name": "stdout",
     "output_type": "stream",
     "text": [
      "현재 대기 인원은 2명 입니다.\n",
      "1. 대기 번호 등록\n",
      "2. 대기 번호 보기\n",
      "3. 대기 명단 보기\n",
      "4. 대기 번호 호출\n",
      "5. 프로그램 종료\n"
     ]
    },
    {
     "name": "stdin",
     "output_type": "stream",
     "text": [
      " 2\n",
      "대기 순번을 확인 할 번호를 입력 하세요 4\n"
     ]
    },
    {
     "name": "stdout",
     "output_type": "stream",
     "text": [
      "대기 번호가 존재하지 않습니다.\n",
      "1. 대기 번호 등록\n",
      "2. 대기 번호 보기\n",
      "3. 대기 명단 보기\n",
      "4. 대기 번호 호출\n",
      "5. 프로그램 종료\n"
     ]
    }
   ],
   "source": [
    "from collections import deque\n",
    "\n",
    "def print_menu():\n",
    "    print(\"1. 대기 번호 등록\")\n",
    "    print(\"2. 대기 번호 보기\")\n",
    "    print(\"3. 대기 명단 보기\")\n",
    "    print(\"4. 대기 번호 호출\")\n",
    "    print(\"5. 프로그램 종료\")\n",
    "\n",
    "def insert_list():\n",
    "    number = input(\"대기 번호를 입력 하세요\")\n",
    "    wating_list.append(number)\n",
    "    print(f\"현재 대기 인원은 {len(wating_list)}명 입니다.\")\n",
    "\n",
    "def show_my_list():\n",
    "    number = input(\"대기 순번을 확인 할 번호를 입력 하세요\")\n",
    "    if number in wating_list: \n",
    "        cnt = wating_list.index(number)\n",
    "        print(f'{cnt+1} 번째 대기중 입니다.')\n",
    "    else:\n",
    "        print(\"대기 번호가 존재하지 않습니다.\")\n",
    "        \n",
    "def show_all_list():\n",
    "    if wating_list:\n",
    "        print(*wating_list, sep=\"\\n\")\n",
    "    else:\n",
    "        print(\"대기 명단이 없습니다.\")\n",
    "\n",
    "def call_list():\n",
    "    next = wating_list.popleft()\n",
    "    print(f'{next}님 입장하세요.')\n",
    "\n",
    "wating_list = deque()\n",
    "cmd = 1\n",
    "while cmd != 6:\n",
    "    print_menu()    # 메뉴를 처음에 보여줍니다.\n",
    "    cmd = int(input())  # cmd를 받아서 cmd 받은 쪽의 함수를 실행합니다.\n",
    "    if cmd == 1:\n",
    "        insert_list()\n",
    "    elif cmd == 2:\n",
    "        show_my_list()\n",
    "    elif cmd == 3:\n",
    "        show_all_list()\n",
    "    elif cmd == 4:\n",
    "        call_list()\n",
    "    elif cmd == 5:\n",
    "        break "
   ]
  },
  {
   "cell_type": "code",
   "execution_count": 20,
   "id": "fe966384-5a2b-483b-8e0d-37b34eb7815c",
   "metadata": {},
   "outputs": [
    {
     "name": "stdin",
     "output_type": "stream",
     "text": [
      "구구단 출력입니다. 몇 단을 출력할까요? :  9\n"
     ]
    },
    {
     "name": "stdout",
     "output_type": "stream",
     "text": [
      "9 X 1 = 9\n",
      "9 X 2 = 18\n",
      "9 X 3 = 27\n",
      "9 X 4 = 36\n",
      "9 X 5 = 45\n",
      "9 X 6 = 54\n",
      "9 X 7 = 63\n",
      "9 X 8 = 72\n",
      "9 X 9 = 81\n"
     ]
    }
   ],
   "source": [
    "n = int(input(\"구구단 출력입니다. 몇 단을 출력할까요? : \"))\n",
    "\n",
    "if n in range(2,9+1):\n",
    "    for a in range(1,9+1):    \n",
    "        print(f\"{n} X {a} = {n*a}\")"
   ]
  },
  {
   "cell_type": "code",
   "execution_count": null,
   "id": "cb131f41-1e0f-4640-aec2-726fbeb688ec",
   "metadata": {},
   "outputs": [],
   "source": []
  },
  {
   "cell_type": "code",
   "execution_count": null,
   "id": "dd5aa158-60ef-4413-8b85-6b65421860fc",
   "metadata": {},
   "outputs": [],
   "source": []
  },
  {
   "cell_type": "code",
   "execution_count": null,
   "id": "9993bf4d-23be-48a0-a539-8ac5217aa79f",
   "metadata": {},
   "outputs": [],
   "source": []
  }
 ],
 "metadata": {
  "kernelspec": {
   "display_name": "Python 3 (ipykernel)",
   "language": "python",
   "name": "python3"
  },
  "language_info": {
   "codemirror_mode": {
    "name": "ipython",
    "version": 3
   },
   "file_extension": ".py",
   "mimetype": "text/x-python",
   "name": "python",
   "nbconvert_exporter": "python",
   "pygments_lexer": "ipython3",
   "version": "3.11.7"
  }
 },
 "nbformat": 4,
 "nbformat_minor": 5
}

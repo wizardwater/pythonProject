{
 "cells": [
  {
   "cell_type": "markdown",
   "id": "47129f06-37a5-4176-a666-130d22242b12",
   "metadata": {},
   "source": [
    "## 최대 공약수"
   ]
  },
  {
   "cell_type": "markdown",
   "id": "5d602179-119c-4f5e-98d8-9eb1eadabd69",
   "metadata": {},
   "source": [
    "최대 공약수를 찾는 것은 매우 힘든 일이었다."
   ]
  },
  {
   "cell_type": "markdown",
   "id": "5c48c2a6-ad38-4927-8666-e8ba322a33e4",
   "metadata": {},
   "source": [
    "예를들어 n = 5, m = 20 이라고 할 때  \n",
    "최대 공약수는 5 이다.\n",
    "이를 어떻게 찾나면 5 , 4, 3, 2, 1   \n",
    "n 과 m 중에 작은 숫자를 n이라고 할때  \n",
    "n을 1부터 n 까지 나열 한 숫자 중  \n",
    "m % n 을 나누었을때 나머지가 0 인 경우가 최선이라고 생각했다."
   ]
  },
  {
   "cell_type": "code",
   "execution_count": 5,
   "id": "09583907-9ed2-430e-9bd9-320eb33cb375",
   "metadata": {},
   "outputs": [],
   "source": [
    "n = 5\n",
    "m = 20"
   ]
  },
  {
   "cell_type": "code",
   "execution_count": 9,
   "id": "7c1e9665-0d8e-4c17-aa91-b95245fdfe90",
   "metadata": {},
   "outputs": [
    {
     "name": "stdout",
     "output_type": "stream",
     "text": [
      "5\n"
     ]
    }
   ],
   "source": [
    "for a in range(1,n+1)[::-1]:\n",
    "    if m % a == 0:\n",
    "        break\n",
    "print(a)"
   ]
  },
  {
   "cell_type": "markdown",
   "id": "4f37fc89-3892-4ac3-89f2-8f547bfff854",
   "metadata": {},
   "source": [
    "하지만 유클리드 방법을 사용할 수도 있다."
   ]
  },
  {
   "cell_type": "code",
   "execution_count": null,
   "id": "d7641378-811f-4d7b-ad21-bd286fc9c0d6",
   "metadata": {},
   "outputs": [],
   "source": []
  },
  {
   "cell_type": "markdown",
   "id": "8b1b04f6-4b65-4e8b-9f4e-8861ef95558a",
   "metadata": {},
   "source": [
    "기본 개념은 이렇다. M % N  = R 일때  \n",
    "M, N 의 최대공약수는 N , R의 최대 공약수와 같다.  \n",
    "이를 반복 계산하면 최대공약수를 찾아 낼 수 있다."
   ]
  },
  {
   "cell_type": "code",
   "execution_count": null,
   "id": "c647153c-d968-4508-afbf-d206bef1e46a",
   "metadata": {},
   "outputs": [],
   "source": []
  }
 ],
 "metadata": {
  "kernelspec": {
   "display_name": "Python 3 (ipykernel)",
   "language": "python",
   "name": "python3"
  },
  "language_info": {
   "codemirror_mode": {
    "name": "ipython",
    "version": 3
   },
   "file_extension": ".py",
   "mimetype": "text/x-python",
   "name": "python",
   "nbconvert_exporter": "python",
   "pygments_lexer": "ipython3",
   "version": "3.11.7"
  }
 },
 "nbformat": 4,
 "nbformat_minor": 5
}

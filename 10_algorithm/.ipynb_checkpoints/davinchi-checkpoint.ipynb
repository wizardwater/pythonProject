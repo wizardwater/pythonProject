{
 "cells": [
  {
   "cell_type": "markdown",
   "id": "ee6f792a-4b42-4054-8b29-0c9476327b4f",
   "metadata": {},
   "source": [
    "## 다빈치 코딩 연습문제"
   ]
  },
  {
   "cell_type": "code",
   "execution_count": null,
   "id": "f1df634a-7c40-4eff-97ba-8c24ff7c6caf",
   "metadata": {},
   "outputs": [],
   "source": []
  },
  {
   "cell_type": "code",
   "execution_count": null,
   "id": "0e887ee4-81dd-4636-a4ae-4268bca194f9",
   "metadata": {},
   "outputs": [],
   "source": []
  },
  {
   "cell_type": "markdown",
   "id": "b5a44793-9d87-44de-af32-705fcad8ffb0",
   "metadata": {
    "jp-MarkdownHeadingCollapsed": true
   },
   "source": [
    "### 1. 구구단 출력"
   ]
  },
  {
   "cell_type": "code",
   "execution_count": 3,
   "id": "2c3fb327-ab7d-4e0c-9af5-b452ff796bfa",
   "metadata": {},
   "outputs": [
    {
     "name": "stdin",
     "output_type": "stream",
     "text": [
      "구구단 출력입니다. 몇 단을 출력할까요?  2\n"
     ]
    },
    {
     "name": "stdout",
     "output_type": "stream",
     "text": [
      "2 X 1 = 2\n",
      "2 X 2 = 4\n",
      "2 X 3 = 6\n",
      "2 X 4 = 8\n",
      "2 X 5 = 10\n",
      "2 X 6 = 12\n",
      "2 X 7 = 14\n",
      "2 X 8 = 16\n",
      "2 X 9 = 18\n"
     ]
    }
   ],
   "source": [
    "n = int(input(\"구구단 출력입니다. 몇 단을 출력할까요? \"))\n",
    "\n",
    "if n in range(2,18+1):\n",
    "    for a in range(1,9+1):    \n",
    "        print(f\"{n} X {a} = {n*a}\")\n",
    "else: print(\"2 ~ 18단까지만 지원합니다\")"
   ]
  },
  {
   "cell_type": "code",
   "execution_count": 13,
   "id": "6ec7da4a-49f1-4afe-a6bb-26dab643eeba",
   "metadata": {},
   "outputs": [
    {
     "name": "stdout",
     "output_type": "stream",
     "text": [
      "br\n",
      "2 X 1 = 2\n",
      "2 X 2 = 4\n",
      "2 X 3 = 6\n",
      "2 X 4 = 8\n",
      "2 X 5 = 10\n",
      "2 X 6 = 12\n",
      "2 X 7 = 14\n",
      "2 X 8 = 16\n",
      "2 X 9 = 18\n",
      "br\n",
      "3 X 1 = 3\n",
      "3 X 2 = 6\n",
      "3 X 3 = 9\n",
      "3 X 4 = 12\n",
      "3 X 5 = 15\n",
      "3 X 6 = 18\n",
      "3 X 7 = 21\n",
      "3 X 8 = 24\n",
      "3 X 9 = 27\n",
      "br\n",
      "4 X 1 = 4\n",
      "4 X 2 = 8\n",
      "4 X 3 = 12\n",
      "4 X 4 = 16\n",
      "4 X 5 = 20\n",
      "4 X 6 = 24\n",
      "4 X 7 = 28\n",
      "4 X 8 = 32\n",
      "4 X 9 = 36\n",
      "br\n",
      "5 X 1 = 5\n",
      "5 X 2 = 10\n",
      "5 X 3 = 15\n",
      "5 X 4 = 20\n",
      "5 X 5 = 25\n",
      "5 X 6 = 30\n",
      "5 X 7 = 35\n",
      "5 X 8 = 40\n",
      "5 X 9 = 45\n",
      "br\n",
      "6 X 1 = 6\n",
      "6 X 2 = 12\n",
      "6 X 3 = 18\n",
      "6 X 4 = 24\n",
      "6 X 5 = 30\n",
      "6 X 6 = 36\n",
      "6 X 7 = 42\n",
      "6 X 8 = 48\n",
      "6 X 9 = 54\n",
      "br\n",
      "7 X 1 = 7\n",
      "7 X 2 = 14\n",
      "7 X 3 = 21\n",
      "7 X 4 = 28\n",
      "7 X 5 = 35\n",
      "7 X 6 = 42\n",
      "7 X 7 = 49\n",
      "7 X 8 = 56\n",
      "7 X 9 = 63\n",
      "br\n",
      "8 X 1 = 8\n",
      "8 X 2 = 16\n",
      "8 X 3 = 24\n",
      "8 X 4 = 32\n",
      "8 X 5 = 40\n",
      "8 X 6 = 48\n",
      "8 X 7 = 56\n",
      "8 X 8 = 64\n",
      "8 X 9 = 72\n",
      "br\n",
      "9 X 1 = 9\n",
      "9 X 2 = 18\n",
      "9 X 3 = 27\n",
      "9 X 4 = 36\n",
      "9 X 5 = 45\n",
      "9 X 6 = 54\n",
      "9 X 7 = 63\n",
      "9 X 8 = 72\n",
      "9 X 9 = 81\n"
     ]
    }
   ],
   "source": [
    "# 2에서 9단까지 전부 보여주기\n",
    "\n",
    "for n in range(2,9+1):\n",
    "    print(\"br\")\n",
    "    for a in range(1,9+1):    # 1부터 9 까지\n",
    "        print(f\"{n} X {a} = {n*a}\")"
   ]
  },
  {
   "cell_type": "code",
   "execution_count": 16,
   "id": "24ec9b5e-2280-4182-b908-a4fd1aea2d8e",
   "metadata": {},
   "outputs": [
    {
     "name": "stdout",
     "output_type": "stream",
     "text": [
      "       A  B  C\n",
      "one    1  2  3\n",
      "two    4  5  6\n",
      "three  7  8  9\n"
     ]
    }
   ],
   "source": [
    "# 데이터 프레임으로 만들 수 있는가?\n",
    "import pandas as pd\n",
    "\n",
    "values = [[1, 2, 3], [4, 5, 6], [7, 8, 9]]\n",
    "index = ['one', 'two', 'three']\n",
    "columns = ['A', 'B', 'C']\n",
    "\n",
    "df = pd.DataFrame(values, index=index, columns=columns)\n",
    "print(df)"
   ]
  },
  {
   "cell_type": "code",
   "execution_count": 42,
   "id": "9436601e-2543-4b80-a6ed-baf68bac67bf",
   "metadata": {},
   "outputs": [
    {
     "data": {
      "text/plain": [
       "[1, 2, 3, 4, 5, 6, 7, 8, 9, 1, 2, 3, 4, 5, 6, 7, 8, 9]"
      ]
     },
     "execution_count": 42,
     "metadata": {},
     "output_type": "execute_result"
    }
   ],
   "source": [
    "index = list(range(1,10))*2\n",
    "index"
   ]
  },
  {
   "cell_type": "code",
   "execution_count": 43,
   "id": "76d0639c-2719-4269-b8e2-eeb895acee91",
   "metadata": {},
   "outputs": [],
   "source": [
    "index = [1, 2, 3, 4, 5, 6, 7, 8, 9, 0, 1, 2, 3, 4, 5, 6, 7, 8, 9]\n",
    "columns = [\"2\",\"3\",\"4\",\"5\"]"
   ]
  },
  {
   "cell_type": "code",
   "execution_count": 44,
   "id": "fe992b36-89df-4eb2-bbd4-f9bf985f5324",
   "metadata": {
    "scrolled": true
   },
   "outputs": [
    {
     "data": {
      "text/plain": [
       "[['2 X 1 = 2', '3 X 1 = 3', '4 X 1 = 4', '5 X 1 = 5'],\n",
       " ['2 X 2 = 4', '3 X 2 = 6', '4 X 2 = 8', '5 X 2 = 10'],\n",
       " ['2 X 3 = 6', '3 X 3 = 9', '4 X 3 = 12', '5 X 3 = 15'],\n",
       " ['2 X 4 = 8', '3 X 4 = 12', '4 X 4 = 16', '5 X 4 = 20'],\n",
       " ['2 X 5 = 10', '3 X 5 = 15', '4 X 5 = 20', '5 X 5 = 25'],\n",
       " ['2 X 6 = 12', '3 X 6 = 18', '4 X 6 = 24', '5 X 6 = 30'],\n",
       " ['2 X 7 = 14', '3 X 7 = 21', '4 X 7 = 28', '5 X 7 = 35'],\n",
       " ['2 X 8 = 16', '3 X 8 = 24', '4 X 8 = 32', '5 X 8 = 40'],\n",
       " ['2 X 9 = 18', '3 X 9 = 27', '4 X 9 = 36', '5 X 9 = 45'],\n",
       " ['6', '7', '8', '9'],\n",
       " ['6 X 1 = 6', '7 X 1 = 7', '8 X 1 = 8', '9 X 1 = 9'],\n",
       " ['6 X 2 = 12', '7 X 2 = 14', '8 X 2 = 16', '9 X 2 = 18'],\n",
       " ['6 X 3 = 18', '7 X 3 = 21', '8 X 3 = 24', '9 X 3 = 27'],\n",
       " ['6 X 4 = 24', '7 X 4 = 28', '8 X 4 = 32', '9 X 4 = 36'],\n",
       " ['6 X 5 = 30', '7 X 5 = 35', '8 X 5 = 40', '9 X 5 = 45'],\n",
       " ['6 X 6 = 36', '7 X 6 = 42', '8 X 6 = 48', '9 X 6 = 54'],\n",
       " ['6 X 7 = 42', '7 X 7 = 49', '8 X 7 = 56', '9 X 7 = 63'],\n",
       " ['6 X 8 = 48', '7 X 8 = 56', '8 X 8 = 64', '9 X 8 = 72'],\n",
       " ['6 X 9 = 54', '7 X 9 = 63', '8 X 9 = 72', '9 X 9 = 81']]"
      ]
     },
     "execution_count": 44,
     "metadata": {},
     "output_type": "execute_result"
    }
   ],
   "source": [
    "values = []\n",
    "for a in range(1,10):\n",
    "    x = []\n",
    "    for n in range(2,5+1):\n",
    "        x.append(f\"{n} X {a} = {n*a}\")\n",
    "    values.append(x)\n",
    "values.append(['6','7','8','9'])\n",
    "for a in range(1,10):\n",
    "    x = []\n",
    "    for n in range(6,9+1):\n",
    "        x.append(f\"{n} X {a} = {n*a}\")\n",
    "    values.append(x)\n",
    "values"
   ]
  },
  {
   "cell_type": "code",
   "execution_count": 45,
   "id": "dc4c276f-d7cf-47ff-b0aa-b385c2f820fc",
   "metadata": {},
   "outputs": [
    {
     "name": "stdout",
     "output_type": "stream",
     "text": [
      "            2           3           4           5\n",
      "1   2 X 1 = 2   3 X 1 = 3   4 X 1 = 4   5 X 1 = 5\n",
      "2   2 X 2 = 4   3 X 2 = 6   4 X 2 = 8  5 X 2 = 10\n",
      "3   2 X 3 = 6   3 X 3 = 9  4 X 3 = 12  5 X 3 = 15\n",
      "4   2 X 4 = 8  3 X 4 = 12  4 X 4 = 16  5 X 4 = 20\n",
      "5  2 X 5 = 10  3 X 5 = 15  4 X 5 = 20  5 X 5 = 25\n",
      "6  2 X 6 = 12  3 X 6 = 18  4 X 6 = 24  5 X 6 = 30\n",
      "7  2 X 7 = 14  3 X 7 = 21  4 X 7 = 28  5 X 7 = 35\n",
      "8  2 X 8 = 16  3 X 8 = 24  4 X 8 = 32  5 X 8 = 40\n",
      "9  2 X 9 = 18  3 X 9 = 27  4 X 9 = 36  5 X 9 = 45\n",
      "0           6           7           8           9\n",
      "1   6 X 1 = 6   7 X 1 = 7   8 X 1 = 8   9 X 1 = 9\n",
      "2  6 X 2 = 12  7 X 2 = 14  8 X 2 = 16  9 X 2 = 18\n",
      "3  6 X 3 = 18  7 X 3 = 21  8 X 3 = 24  9 X 3 = 27\n",
      "4  6 X 4 = 24  7 X 4 = 28  8 X 4 = 32  9 X 4 = 36\n",
      "5  6 X 5 = 30  7 X 5 = 35  8 X 5 = 40  9 X 5 = 45\n",
      "6  6 X 6 = 36  7 X 6 = 42  8 X 6 = 48  9 X 6 = 54\n",
      "7  6 X 7 = 42  7 X 7 = 49  8 X 7 = 56  9 X 7 = 63\n",
      "8  6 X 8 = 48  7 X 8 = 56  8 X 8 = 64  9 X 8 = 72\n",
      "9  6 X 9 = 54  7 X 9 = 63  8 X 9 = 72  9 X 9 = 81\n"
     ]
    }
   ],
   "source": [
    "df = pd.DataFrame(values, index=index, columns=columns)\n",
    "print(df)"
   ]
  },
  {
   "cell_type": "markdown",
   "id": "db7af36b-e8f0-4a3b-9143-17fff3b53bd6",
   "metadata": {},
   "source": [
    "### 2. 별 찍기"
   ]
  },
  {
   "cell_type": "code",
   "execution_count": 61,
   "id": "884ed443-ed41-466f-8c70-dbd9497975c6",
   "metadata": {},
   "outputs": [
    {
     "name": "stdin",
     "output_type": "stream",
     "text": [
      " 7 5\n"
     ]
    },
    {
     "name": "stdout",
     "output_type": "stream",
     "text": [
      "******\n",
      "******\n",
      "******\n",
      "******\n",
      "******\n"
     ]
    }
   ],
   "source": [
    "n,m = map(int,input().split()) # 가로 n x m\n",
    "\n",
    "for a in range(m):\n",
    "    print(\"*\"*x)"
   ]
  },
  {
   "cell_type": "code",
   "execution_count": 79,
   "id": "1a17240e-68c4-4d94-b4de-de072553e972",
   "metadata": {
    "scrolled": true
   },
   "outputs": [
    {
     "name": "stdin",
     "output_type": "stream",
     "text": [
      " 10\n"
     ]
    },
    {
     "name": "stdout",
     "output_type": "stream",
     "text": [
      "         * \n",
      "        * * \n",
      "       * * * \n",
      "      * * * * \n",
      "     * * * * * \n",
      "    * * * * * * \n",
      "   * * * * * * * \n",
      "  * * * * * * * * \n",
      " * * * * * * * * * \n",
      "* * * * * * * * * * \n"
     ]
    }
   ],
   "source": [
    "n = int(input())\n",
    "for x in range(1,n+1):\n",
    "    print(\" \"*(n-x) +\"* \"*x) "
   ]
  },
  {
   "cell_type": "markdown",
   "id": "fe913ad0-b8e9-4220-b1eb-d6d0eba54464",
   "metadata": {},
   "source": [
    "### 3. 피보나치 수열"
   ]
  },
  {
   "cell_type": "markdown",
   "id": "7a69d361-c9a9-4e26-aa78-dac220142c7f",
   "metadata": {},
   "source": [
    "수열 a[n+2] = a[n] + a[n+1] 인 수열이 피보나치 수열이다."
   ]
  },
  {
   "cell_type": "code",
   "execution_count": 47,
   "id": "747d5970-c57e-464d-a363-8a749a8956d0",
   "metadata": {},
   "outputs": [
    {
     "name": "stdout",
     "output_type": "stream",
     "text": [
      "2\n",
      "3\n",
      "5\n",
      "8\n",
      "13\n",
      "21\n",
      "34\n",
      "55\n",
      "89\n",
      "144\n"
     ]
    }
   ],
   "source": [
    "num1 =1\n",
    "num2 =1\n",
    "\n",
    "for a in range(10):\n",
    "    new=num1+num2\n",
    "    print(new)\n",
    "    num1=num2\n",
    "    num2=new"
   ]
  },
  {
   "cell_type": "markdown",
   "id": "d0ea1bdb-103c-46ec-ba3f-ff2c66703842",
   "metadata": {},
   "source": [
    "### 구구단 점수 구하기"
   ]
  },
  {
   "cell_type": "code",
   "execution_count": 85,
   "id": "357fd1fd-6c57-4996-9c59-cb5d2f35dbdc",
   "metadata": {},
   "outputs": [
    {
     "name": "stdin",
     "output_type": "stream",
     "text": [
      " 3 x 6 = ?  18\n"
     ]
    },
    {
     "name": "stdout",
     "output_type": "stream",
     "text": [
      "맞았습니다\n"
     ]
    },
    {
     "name": "stdin",
     "output_type": "stream",
     "text": [
      " 2 x 7 = ?  43\n"
     ]
    },
    {
     "name": "stdout",
     "output_type": "stream",
     "text": [
      "틀렸습니다\n"
     ]
    },
    {
     "name": "stdin",
     "output_type": "stream",
     "text": [
      " 9 x 4 = ?  36\n"
     ]
    },
    {
     "name": "stdout",
     "output_type": "stream",
     "text": [
      "맞았습니다\n"
     ]
    },
    {
     "name": "stdin",
     "output_type": "stream",
     "text": [
      " 5 x 8 = ?  11\n"
     ]
    },
    {
     "name": "stdout",
     "output_type": "stream",
     "text": [
      "틀렸습니다\n"
     ]
    },
    {
     "name": "stdin",
     "output_type": "stream",
     "text": [
      " 7 x 9 = ?  63\n"
     ]
    },
    {
     "name": "stdout",
     "output_type": "stream",
     "text": [
      "맞았습니다\n",
      "점수는 60 입니다\n"
     ]
    }
   ],
   "source": [
    "# 점수 구하기\n",
    "score = 0\n",
    "num1 = [3,2,9,5,7]\n",
    "num2 = [6,7,4,8,9]\n",
    "\n",
    "for a in range(5):\n",
    "    result = int(input(f\" {num1[a]} x {num2[a]} = ? \"))\n",
    "    if result == num1[a] * num2[a]:\n",
    "        print(\"맞았습니다\")\n",
    "        score +=20\n",
    "    else:\n",
    "        print(\"틀렸습니다\")\n",
    "print(f\"100점 만점에 점수는 {score}점 입니다\")"
   ]
  },
  {
   "cell_type": "markdown",
   "id": "7b0ccc1b-f4a5-4a8c-813b-478f2365db26",
   "metadata": {},
   "source": [
    "#### 리스트에서 랜덤 숫자가 나오면 얼마나 좋을까?"
   ]
  },
  {
   "cell_type": "code",
   "execution_count": 126,
   "id": "5cbe1165-3400-48d6-a39c-6b279da822d9",
   "metadata": {},
   "outputs": [
    {
     "name": "stdout",
     "output_type": "stream",
     "text": [
      "1\n"
     ]
    }
   ],
   "source": [
    "import random \n",
    "num = random.randint(1, 9)\n",
    "print(num)"
   ]
  },
  {
   "cell_type": "code",
   "execution_count": 136,
   "id": "a28a8495-6383-431f-941c-35b25606be77",
   "metadata": {},
   "outputs": [
    {
     "data": {
      "text/plain": [
       "18"
      ]
     },
     "execution_count": 136,
     "metadata": {},
     "output_type": "execute_result"
    }
   ],
   "source": [
    "random.randrange(0, 100, 1)\n",
    "#random.randint(0,100)"
   ]
  },
  {
   "cell_type": "code",
   "execution_count": 127,
   "id": "1fd03f36-aa7a-43e9-aba9-b0395c1d28d4",
   "metadata": {},
   "outputs": [
    {
     "name": "stdin",
     "output_type": "stream",
     "text": [
      " 3 x 5 = ?  15\n"
     ]
    },
    {
     "name": "stdout",
     "output_type": "stream",
     "text": [
      "맞았습니다\n"
     ]
    },
    {
     "name": "stdin",
     "output_type": "stream",
     "text": [
      " 2 x 5 = ?  10\n"
     ]
    },
    {
     "name": "stdout",
     "output_type": "stream",
     "text": [
      "맞았습니다\n"
     ]
    },
    {
     "name": "stdin",
     "output_type": "stream",
     "text": [
      " 8 x 4 = ?  24\n"
     ]
    },
    {
     "name": "stdout",
     "output_type": "stream",
     "text": [
      "틀렸습니다\n"
     ]
    },
    {
     "name": "stdin",
     "output_type": "stream",
     "text": [
      " 4 x 8 = ?  44\n"
     ]
    },
    {
     "name": "stdout",
     "output_type": "stream",
     "text": [
      "틀렸습니다\n"
     ]
    },
    {
     "name": "stdin",
     "output_type": "stream",
     "text": [
      " 2 x 7 = ?  22\n"
     ]
    },
    {
     "name": "stdout",
     "output_type": "stream",
     "text": [
      "틀렸습니다\n",
      "100점 만점에 점수는 40점 입니다\n"
     ]
    }
   ],
   "source": [
    "score = 0\n",
    "for a in range(5):\n",
    "    a = random.randint(2,9)   # 랜덤 인수 \n",
    "    b = random.randint(1,9)\n",
    "    result = int(input(f\" {a} x {b} = ? \"))\n",
    "    if result == a * b:\n",
    "        print(\"맞았습니다\")\n",
    "        score +=20\n",
    "    else:\n",
    "        print(\"틀렸습니다\")\n",
    "print(f\"100점 만점에 점수는 {score}점 입니다\")"
   ]
  },
  {
   "cell_type": "markdown",
   "id": "f7e49c61-4552-4f22-89b2-2f7cf6a90c3a",
   "metadata": {},
   "source": [
    "random 함수는 정말 random 인가요? "
   ]
  },
  {
   "cell_type": "markdown",
   "id": "6bd00b5f-eda1-4309-8486-baf12735601b",
   "metadata": {},
   "source": [
    "https://youtu.be/DSBDQhsOmhs 를 참조하셔도 되는데  \n",
    "컴퓨터는 정해진 일밖에 하지 못하므로, 아무 숫자나 말해라고 해도  \n",
    "시간을 가지고 함수에다가 시간을 넣는 형태로 뽑을 수 밖에 없음"
   ]
  },
  {
   "cell_type": "markdown",
   "id": "42a5cbb6-99ea-4462-872c-0b4f9a95084b",
   "metadata": {
    "jp-MarkdownHeadingCollapsed": true
   },
   "source": [
    "### 리스트에서 remove와 del 차이"
   ]
  },
  {
   "cell_type": "code",
   "execution_count": 106,
   "id": "35588c52-2f1c-4f3d-be77-7dcdd5c77f41",
   "metadata": {},
   "outputs": [],
   "source": [
    "idol = ['카리나','윈터','닝닝', '민주']"
   ]
  },
  {
   "cell_type": "code",
   "execution_count": 95,
   "id": "51a2d6e5-155b-42e6-a121-8cb7da8c2469",
   "metadata": {},
   "outputs": [],
   "source": [
    "a.remove('닝닝')  # 항목으로 지우는 것 > 항목이 있는지를 확인해야한다.\n",
    "del a[1] # index로 지운다 > index 범위를 확인해야하고"
   ]
  },
  {
   "cell_type": "code",
   "execution_count": 110,
   "id": "4143d384-c710-4775-928c-b7b1f51227ed",
   "metadata": {},
   "outputs": [
    {
     "name": "stdout",
     "output_type": "stream",
     "text": [
      "없음\n",
      "['윈터', '닝닝', '민주']\n"
     ]
    }
   ],
   "source": [
    "# 즉 카리나를 지우고싶으면\n",
    "result = 0\n",
    "if \"카리나\" in idol:\n",
    "    result = 1\n",
    "if result ==1:\n",
    "    idol.remove('카리나')\n",
    "else: print(\"없음\")\n",
    "print(idol)"
   ]
  },
  {
   "cell_type": "markdown",
   "id": "4a1fc69f-cd3c-4af0-ad52-0381041b35ed",
   "metadata": {
    "jp-MarkdownHeadingCollapsed": true
   },
   "source": [
    "### 리스트 "
   ]
  },
  {
   "cell_type": "code",
   "execution_count": 117,
   "id": "08139fc7-eeb8-4413-b6ab-d3e15496bcea",
   "metadata": {},
   "outputs": [
    {
     "data": {
      "text/plain": [
       "[1, 2, 3, 4, 5, 5, 5]"
      ]
     },
     "execution_count": 117,
     "metadata": {},
     "output_type": "execute_result"
    }
   ],
   "source": [
    "answer =[]\n",
    "import numpy as np\n",
    "arr = np.array([1,2,3,4,5,5,5])\n",
    "for a in range(len(arr)):\n",
    "    answer.append(int(arr[a]))\n",
    "answer"
   ]
  },
  {
   "cell_type": "code",
   "execution_count": 118,
   "id": "d14209d1-35ac-41a5-a7b4-2e61e65eac56",
   "metadata": {},
   "outputs": [],
   "source": [
    "def solution(arr):\n",
    "    answer = []\n",
    "    \n",
    "    for a in range(len(arr)):\n",
    "        answer.append(arr[a])\n",
    "        if arr[a] == arr[a-1]:\n",
    "            answer.pop()\n",
    "    return answer"
   ]
  },
  {
   "cell_type": "code",
   "execution_count": 119,
   "id": "cba627d6-7622-4120-a899-d9a20c18cdf7",
   "metadata": {},
   "outputs": [
    {
     "data": {
      "text/plain": [
       "[1, 2, 3, 4, 5]"
      ]
     },
     "execution_count": 119,
     "metadata": {},
     "output_type": "execute_result"
    }
   ],
   "source": [
    "solution(arr)"
   ]
  }
 ],
 "metadata": {
  "kernelspec": {
   "display_name": "Python 3 (ipykernel)",
   "language": "python",
   "name": "python3"
  },
  "language_info": {
   "codemirror_mode": {
    "name": "ipython",
    "version": 3
   },
   "file_extension": ".py",
   "mimetype": "text/x-python",
   "name": "python",
   "nbconvert_exporter": "python",
   "pygments_lexer": "ipython3",
   "version": "3.11.7"
  }
 },
 "nbformat": 4,
 "nbformat_minor": 5
}

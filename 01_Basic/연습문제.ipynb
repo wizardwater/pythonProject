{
 "cells": [
  {
   "cell_type": "code",
   "execution_count": 9,
   "id": "d37a557e-26fc-4cf4-895b-d3005ffab917",
   "metadata": {},
   "outputs": [
    {
     "name": "stdin",
     "output_type": "stream",
     "text": [
      "4자리로 입력하시오 1234\n"
     ]
    }
   ],
   "source": [
    "# 성별, 이메일, 출생년도 입력받기\n",
    "# 조건: customer 딕셔너리가 생겨야함\n",
    "\n",
    "gender ='M'\n",
    "email = \"sss3@naver.com\" # @ 존재 파악 re로\n",
    "birth = int(input(\"4자리로 입력하시오\"))\n",
    "\n",
    "\n",
    "customer= {\"Gender\" : gender, \"Email\" : email, \"Birthday\": birth}\n"
   ]
  },
  {
   "cell_type": "code",
   "execution_count": 22,
   "id": "40332919-4d8e-406f-8af0-996a86c50d71",
   "metadata": {},
   "outputs": [
    {
     "name": "stdin",
     "output_type": "stream",
     "text": [
      "성별을 입력해주세요 M / F dd\n",
      "성별을 입력해주세요 M / F d\n",
      "성별을 입력해주세요 M / F M\n"
     ]
    }
   ],
   "source": [
    "# 성별 입력 코드 완성\n",
    "while True:\n",
    "    gender= input(\"성별을 입력해주세요 M / F\").upper()\n",
    "\n",
    "    if gender in ('M', 'F'):\n",
    "        break"
   ]
  },
  {
   "cell_type": "code",
   "execution_count": 41,
   "id": "4e9a2496-074a-4fa1-834d-66ce7e15d845",
   "metadata": {},
   "outputs": [
    {
     "data": {
      "text/plain": [
       "['banana@ddd.d']"
      ]
     },
     "execution_count": 41,
     "metadata": {},
     "output_type": "execute_result"
    }
   ],
   "source": [
    "# 이메일 형식일때만 리스트에 들어감?  eie@gga >> 그대로 나옴 / banana >> []\n",
    "import re\n",
    "re.findall(r'[\\w-]+@[\\w.]+', \"banana@ddd.d\")"
   ]
  },
  {
   "cell_type": "code",
   "execution_count": 38,
   "id": "0c3326ea-21e6-469c-a7ad-7480c5d6a3ce",
   "metadata": {},
   "outputs": [
    {
     "name": "stdin",
     "output_type": "stream",
     "text": [
      " dididid\n"
     ]
    },
    {
     "name": "stdout",
     "output_type": "stream",
     "text": [
      "'@'를 포함하세요\n"
     ]
    },
    {
     "name": "stdin",
     "output_type": "stream",
     "text": [
      " ddlkdd\n"
     ]
    },
    {
     "name": "stdout",
     "output_type": "stream",
     "text": [
      "'@'를 포함하세요\n"
     ]
    },
    {
     "name": "stdin",
     "output_type": "stream",
     "text": [
      " you@ddd\n"
     ]
    }
   ],
   "source": [
    "# 이메일 입력 코드 완성\n",
    "while True:\n",
    "    email = input()\n",
    "    conf =re.search('@',email)\n",
    "\n",
    "    if conf:\n",
    "        break\n",
    "    else: print(\"'@'를 포함하세요\")"
   ]
  },
  {
   "cell_type": "code",
   "execution_count": 36,
   "id": "b1a89e76-b470-4f8e-bc7a-4315c2ac3ad8",
   "metadata": {},
   "outputs": [
    {
     "name": "stdout",
     "output_type": "stream",
     "text": [
      "O\n"
     ]
    }
   ],
   "source": [
    "while true:\n",
    "    "
   ]
  },
  {
   "cell_type": "code",
   "execution_count": 51,
   "id": "8f1e966b-882a-4b83-b75a-f209af2b344e",
   "metadata": {},
   "outputs": [
    {
     "name": "stdin",
     "output_type": "stream",
     "text": [
      "성별을 입력해주세요 M / F M\n",
      "이메일을 입력해주세요 eww@nad\n",
      "생년월일을 4자리로 입력해주세요 0622\n"
     ]
    }
   ],
   "source": [
    "# 잘 되는 지 확인\n",
    "\n",
    "while True:\n",
    "    gender= input(\"성별을 입력해주세요 M / F\").upper()\n",
    "\n",
    "    if gender in ('M', 'F'):\n",
    "        break\n",
    "        \n",
    "while True:\n",
    "    email = input(\"이메일을 입력해주세요\")\n",
    "    conf =re.search('@',email)\n",
    "\n",
    "    if conf:\n",
    "        break\n",
    "    else: print(\"'@'를 포함하세요\")\n",
    "\n",
    "while True:\n",
    "    birth = input(\"생년월일을 4자리로 입력해주세요\")\n",
    "    if len(birth) == 4:\n",
    "        break\n",
    "\n",
    "\n",
    "customer= {\"Gender\" : gender, \"Email\" : email, \"Birthday\": birth}\n",
    "custlist.append(customer)"
   ]
  },
  {
   "cell_type": "code",
   "execution_count": 46,
   "id": "b086e8a8-18aa-4348-bc74-af4a54d2a318",
   "metadata": {},
   "outputs": [
    {
     "data": {
      "text/plain": [
       "{'Gender': 'F', 'Email': 'idd@eefd.com', 'Birthday': '0203'}"
      ]
     },
     "execution_count": 46,
     "metadata": {},
     "output_type": "execute_result"
    }
   ],
   "source": [
    "# int(birth) 하면 203 으로 나와요 >> 고치는방법?\n",
    "customer"
   ]
  },
  {
   "cell_type": "code",
   "execution_count": 52,
   "id": "0b6e45d7-5692-4a61-ba77-cef6f670d982",
   "metadata": {},
   "outputs": [],
   "source": [
    "\n",
    "custlist.append(customer)"
   ]
  },
  {
   "cell_type": "code",
   "execution_count": 54,
   "id": "93f7f9b1-0b26-42aa-8114-0af12acf6311",
   "metadata": {},
   "outputs": [
    {
     "data": {
      "text/plain": [
       "'idd@eefd.com'"
      ]
     },
     "execution_count": 54,
     "metadata": {},
     "output_type": "execute_result"
    }
   ],
   "source": [
    "custlist[0]['Email']"
   ]
  },
  {
   "cell_type": "code",
   "execution_count": 59,
   "id": "be0a1490-3599-4f05-b8b9-be351a946da3",
   "metadata": {},
   "outputs": [
    {
     "name": "stdout",
     "output_type": "stream",
     "text": [
      "잇습니다\n"
     ]
    }
   ],
   "source": [
    "for a in range(len(custlist)):\n",
    "    li_E =custlist[a]['Email']\n",
    "\n",
    "if 'eww@nad' in li_E:\n",
    "    print(\"잇습니다\")"
   ]
  },
  {
   "cell_type": "code",
   "execution_count": 60,
   "id": "31dc0d79-36f4-45e5-8aad-d11cf987b740",
   "metadata": {},
   "outputs": [],
   "source": [
    "del_email = \"eww@nad\"\n",
    "for a in range(len(custlist)):\n",
    "    if del_email ==custlist[a]['Email']:\n",
    "        del custlist[a]\n",
    "        delok =1\n",
    "if delok == 0:\n",
    "    print(\"등록되지 않은 정보입니다.\")"
   ]
  },
  {
   "cell_type": "code",
   "execution_count": 15,
   "id": "399b4885-6e54-4fc0-b19e-2cc6a23c71cf",
   "metadata": {},
   "outputs": [
    {
     "name": "stdin",
     "output_type": "stream",
     "text": [
      "선택 exit\n"
     ]
    },
    {
     "name": "stdout",
     "output_type": "stream",
     "text": [
      "종료하겠습니다\n"
     ]
    }
   ],
   "source": [
    " while True:\n",
    "    choice =input(\"선택\")\n",
    "\n",
    "    if choice == \"exit\":\n",
    "        print(\"종료하겠습니다\")\n",
    "        break"
   ]
  },
  {
   "cell_type": "code",
   "execution_count": 9,
   "id": "dbcf0fc8-cccf-40fc-a066-e575b5f78531",
   "metadata": {},
   "outputs": [
    {
     "name": "stdin",
     "output_type": "stream",
     "text": [
      " ddd\n"
     ]
    },
    {
     "name": "stdout",
     "output_type": "stream",
     "text": [
      "'@'를 포함하세요\n"
     ]
    },
    {
     "name": "stdin",
     "output_type": "stream",
     "text": [
      " dijfowjef\n"
     ]
    },
    {
     "name": "stdout",
     "output_type": "stream",
     "text": [
      "'@'를 포함하세요\n"
     ]
    },
    {
     "name": "stdin",
     "output_type": "stream",
     "text": [
      " naver.com\n"
     ]
    },
    {
     "name": "stdout",
     "output_type": "stream",
     "text": [
      "'@'를 포함하세요\n"
     ]
    },
    {
     "name": "stdin",
     "output_type": "stream",
     "text": [
      " dkdji@naver.com\n"
     ]
    }
   ],
   "source": [
    "# def 를 사용하기\n",
    "\n",
    "# while 안에서 함수사용하기\n",
    "# 함수 안에서 while 쓰기.\n",
    "\n",
    "import re\n",
    "def e_mail(x):\n",
    "    while True:\n",
    "        email = input()\n",
    "        conf =re.search('@',email)\n",
    "\n",
    "        if conf:\n",
    "            break\n",
    "        else: print(\"'@'를 포함하세요\")\n",
    "    \n",
    "e_mail(1)"
   ]
  },
  {
   "cell_type": "code",
   "execution_count": 7,
   "id": "d96d42ad-c985-49dd-9368-9e9b28003664",
   "metadata": {},
   "outputs": [
    {
     "ename": "SyntaxError",
     "evalue": "invalid syntax (3370278397.py, line 5)",
     "output_type": "error",
     "traceback": [
      "\u001b[1;36m  Cell \u001b[1;32mIn[7], line 5\u001b[1;36m\u001b[0m\n\u001b[1;33m    return break\u001b[0m\n\u001b[1;37m           ^\u001b[0m\n\u001b[1;31mSyntaxError\u001b[0m\u001b[1;31m:\u001b[0m invalid syntax\n"
     ]
    }
   ],
   "source": [
    "# while 안에서 함수사용하기\n",
    "\n",
    "def confirm(x):\n",
    "    if x:\n",
    "        return break\n",
    "    else: print(\"'@'를 포함하세요\")\n",
    "\n",
    "while True:\n",
    "    email = input()\n",
    "    conf =re.search('@',email)\n",
    "    confirm(conf)\n",
    "\n",
    "# 이게 안되네...\n"
   ]
  },
  {
   "cell_type": "code",
   "execution_count": 57,
   "id": "8fbfd1fc-dddc-497e-a29f-3fdc3142a352",
   "metadata": {},
   "outputs": [
    {
     "name": "stdout",
     "output_type": "stream",
     "text": [
      "\n",
      "    다음 중에서 하실 일을 골라주세요 :\n",
      "    I - 고객 정보 입력\n",
      "    C - 현재 고객 정보 조회\n",
      "    P - 이전 고객 정보 조회\n",
      "    N - 다음 고객 정보 조회\n",
      "    U - 고객 정보 수정\n",
      "    D - 고객 정보 삭제\n",
      "    Q - 프로그램 종료 \n"
     ]
    },
    {
     "name": "stdin",
     "output_type": "stream",
     "text": [
      " q\n"
     ]
    }
   ],
   "source": [
    "import re\n",
    "\n",
    "def print_menu():\n",
    "    print('''\n",
    "    다음 중에서 하실 일을 골라주세요 :\n",
    "    I - 고객 정보 입력\n",
    "    C - 현재 고객 정보 조회\n",
    "    P - 이전 고객 정보 조회\n",
    "    N - 다음 고객 정보 조회\n",
    "    U - 고객 정보 수정\n",
    "    D - 고객 정보 삭제\n",
    "    Q - 프로그램 종료 ''')\n",
    "\n",
    "def gender_():\n",
    "    while True:\n",
    "        gender= input(\"성별을 입력해주세요 M / F\").upper()\n",
    "\n",
    "        if gender in ('M', 'F'):\n",
    "            break\n",
    "    return gender\n",
    "def email_():\n",
    "    while True:\n",
    "        email = input(\"이메일을 입력해주세요\")\n",
    "        conf =re.search('@',email)\n",
    "\n",
    "        if conf:\n",
    "            break\n",
    "        else: print(\"'@'를 포함하세요\")\n",
    "    return email\n",
    "\n",
    "def birth_():\n",
    "    while True:\n",
    "        birth = input(\"생일을 4자리로 입력해주세요\")\n",
    "        if len(birth) == 4:\n",
    "            break\n",
    "    return birth\n",
    "    \n",
    "\n",
    "def new_customer():  # 성별 /이메일/ 생일 받기\n",
    "    gender = gender_()\n",
    "    email = email_()\n",
    "    birth = birth_()\n",
    "\n",
    "    customer= {\"Gender\" : gender, \"Email\" : email, \"Birthday\": birth}\n",
    "    custlist.append(customer)\n",
    "    \n",
    "\n",
    "\n",
    "def customer_info(x):   # 현재 고객 -> 마지막 고객을 보여줌. 그럼 다음 고객 정보는 의미없는거아냐?\n",
    "    if page >=0:\n",
    "        if x == 1:\n",
    "            print(\"현재 고객 정보 조회\")\n",
    "            print(custlist[page])\n",
    "            print(f\"현재 페이지는 {page+1} 입니다\")\n",
    "        if x == 2:\n",
    "            print(\"이전 고객 정보 조회\")\n",
    "            if page == 0:\n",
    "                print(custlist[page])\n",
    "            else: print(custlist[page-1])\n",
    "        if x == 3:\n",
    "            print(\"다음 고객 정보 조회\")\n",
    "            apa = 0\n",
    "            if page == page:\n",
    "                apa = -1\n",
    "            print(custlist[page+1+apa])\n",
    "\n",
    "    else : print(\"아직 고객 정보가 없습니다\")\n",
    "\n",
    "def ex_amend():\n",
    "    while True:\n",
    "        choice=input('''\n",
    "            그 외에 수정할 정보를 선택해 주세요 :\n",
    "            G : 성별 수정\n",
    "            B : 생년월일 수정\n",
    "            Exit : 프로그램 종료 ''').upper()\n",
    "        \n",
    "        if choice==\"G\":\n",
    "            custlist[idx]['Gender']=gender_()\n",
    "                    \n",
    "        elif choice==\"B\":\n",
    "            custlist[idx]['Birthday']=birth_()\n",
    "                        \n",
    "        elif choice==\"EXIT\":\n",
    "            print(\"수정창 종료\")\n",
    "            break\n",
    "\n",
    "def amend_customer():\n",
    "    idx = -1 \n",
    "    print(\"고객 정보 수정\")\n",
    "    new_email = input(\"수정할 이메일 주소를 입력해주세요\")\n",
    "    for a in range(len(custlist)):\n",
    "        if new_email == custlist[a]['Email']:\n",
    "            idx = a\n",
    "    if idx ==-1:\n",
    "        print(\"등록되지 않은 정보입니다.\") \n",
    "    else:\n",
    "        email = email_()\n",
    "        custlist[idx]['Email'] = email\n",
    "        ex_amend()\n",
    "\n",
    "\n",
    "def del_customer():\n",
    "    print(\"고객 정보 삭제\")\n",
    "    delok = 0\n",
    "    del_email = input(\"정보 삭제를 위해서 이메일 주소를 입력해주세요 \") # 동일한 이메일 주소를 가진 고객정보 삭제\n",
    "    for a in range(len(custlist)):\n",
    "        if del_email ==custlist[a]['Email']:\n",
    "            del custlist[a]\n",
    "            delok = 1\n",
    "    if delok == 0:  # for문을 돌리고도 찾지 못했을 경우가 0\n",
    "        print(\"등록되지 않은 정보입니다.\")\n",
    "    elif delok ==1: # page 1번을 삭제 했을 경우 >> 남은 페이지가 없으므로 page = -1\n",
    "        if a ==0:\n",
    "            page = -1\n",
    "        else: page = len(custlist) -1\n",
    "\n",
    "# 계속 실행할 while 문\n",
    "\n",
    "page = -1\n",
    "custlist = []\n",
    "cmd = 0\n",
    "while cmd != 'Q':\n",
    "    print_menu()\n",
    "    cmd = input().upper()\n",
    "    if cmd == 'I':\n",
    "        new_customer()  # 성별 /이메일/ 생년월일 받기\n",
    "        page += 1\n",
    "    elif cmd == 'C':\n",
    "        customer_info(1)\n",
    "    elif cmd == 'P':\n",
    "        customer_info(2)\n",
    "    elif cmd == 'N':\n",
    "        customer_info(3)\n",
    "    elif cmd == 'U':\n",
    "        amend_customer()\n",
    "    elif cmd == 'D':\n",
    "        del_customer()"
   ]
  },
  {
   "cell_type": "code",
   "execution_count": 53,
   "id": "9a78cf25-b547-4a8c-9ede-22c018a48184",
   "metadata": {},
   "outputs": [
    {
     "data": {
      "text/plain": [
       "[]"
      ]
     },
     "execution_count": 53,
     "metadata": {},
     "output_type": "execute_result"
    }
   ],
   "source": [
    "# I 입력 > 수정 > 삭제 한 뒤에 페이지는 어떻게 없애냐?"
   ]
  },
  {
   "cell_type": "markdown",
   "id": "7d758b87-8be9-41a1-bb96-3fad3df9999e",
   "metadata": {},
   "source": [
    "이제 클래스를 사용해서 코드를 짤 것입니다."
   ]
  },
  {
   "cell_type": "code",
   "execution_count": 59,
   "id": "3046b231-6b95-4d0e-9cea-2b4a34be52f8",
   "metadata": {},
   "outputs": [
    {
     "name": "stdin",
     "output_type": "stream",
     "text": [
      "성별을 입력해주세요 M / F:  M\n",
      "이메일을 입력해주세요:  djd@naver.com\n",
      "생년월일을 4자리로 입력해주세요:  8466\n"
     ]
    },
    {
     "name": "stdout",
     "output_type": "stream",
     "text": [
      "성별: M, 이메일: djd@naver.com, \n",
      "        생년월일: 8466\n"
     ]
    }
   ],
   "source": [
    "import re\n",
    "\n",
    "\n",
    "# 클래스의 장점 여러개의 함수를 한번에 사용할때 매우 편리하다.\n",
    "# 또 클래스 안의 각각의 함수를 가져오기에도 좋다.\n",
    "# 고객의 정보 userinfo 를 가져오는 클래스를 확인해보자.\n",
    "# 클래스가 실행될때 어떤식으로 실행되기를 원하시나요?\n",
    "# def __init__(self) 안에서 작성할 수 있다.\n",
    "# class 안에 있는 함수(성별, 이메일, 생일) 을 각각 slef. 으로 실행해주세요\n",
    "# 그 값을 self.gender 형태에 저장을 해주세요\n",
    "# gender값을 불러오려면 >> UserInfo.gender 형태로 불러올수 있습니다.\n",
    "\n",
    "class UserInfo:\n",
    "    def __init__(self):\n",
    "        self.gender = self.get_gender()\n",
    "        self.email = self.get_email()\n",
    "        self.birth_year = self.get_birth_year()\n",
    "\n",
    "    # self.~~ 로 3개의 인스턴스 변수를 초기화하고, 함수에서 실행된 값을 저장합니다.\n",
    "    \n",
    "    def get_gender(self):\n",
    "        while True:\n",
    "            gender = input(\"성별을 입력해주세요 M / F: \").upper()\n",
    "            if gender in ('M', 'F'):\n",
    "                return gender\n",
    "\n",
    "    def get_email(self):\n",
    "        while True:\n",
    "            email = input(\"이메일을 입력해주세요: \")\n",
    "            if re.search('@', email):\n",
    "                return email\n",
    "            else:\n",
    "                print(\"'@'를 포함하세요\")\n",
    "\n",
    "    def get_birth_year(self):\n",
    "        while True:\n",
    "            birth_year = input(\"생년월일을 4자리로 입력해주세요: \")\n",
    "            if len(birth_year) == 4:\n",
    "                return birth_year\n",
    "\n",
    "# 사용 예시\n",
    "user_info = UserInfo()\n",
    "\n",
    "# 저장한 값을 다시 한번 user_info에다가 넣었구요.\n",
    "# gender값을 불러오려면 >> user_info.gender 식으로 사용할 수 있다.\n",
    "\n",
    "print(f'''성별: {user_info.gender}, 이메일: {user_info.email}, \n",
    "        생년월일: {user_info.birth_year}''')"
   ]
  },
  {
   "cell_type": "code",
   "execution_count": 8,
   "id": "88eb1c6f-fe25-48e3-bacf-1aaa7a95cb19",
   "metadata": {},
   "outputs": [
    {
     "name": "stdin",
     "output_type": "stream",
     "text": [
      "성별을 입력해주세요 M / F m\n",
      "이메일을 입력해주세요 22@nn\n",
      "생일을 4자리로 입력해주세요 1234\n"
     ]
    }
   ],
   "source": [
    "import re\n",
    "\n",
    "class UserInfo:\n",
    "    def __init__(self):\n",
    "        self.gender = self.get_gender()\n",
    "        self.email = self.get_email()\n",
    "        self.birth = self.get_birth()\n",
    "        self.customer = {\"Gender\" : self.gender, \"Email\" : self.email, \"Birthday\": self.birth}\n",
    "        custlist.append(self.customer)\n",
    "        \n",
    "    def get_gender(self):\n",
    "        while True:\n",
    "            gender= input(\"성별을 입력해주세요 M / F\").upper()\n",
    "\n",
    "            if gender in ('M', 'F'):\n",
    "                break\n",
    "        return gender\n",
    "    def get_email(self):\n",
    "        while True:\n",
    "            email = input(\"이메일을 입력해주세요\")\n",
    "            conf =re.search('@',email)\n",
    "\n",
    "            if conf:\n",
    "                break\n",
    "            else: print(\"'@'를 포함하세요\")\n",
    "        return email\n",
    "\n",
    "    def get_birth(self):\n",
    "        while True:\n",
    "            birth = input(\"생일을 4자리로 입력해주세요\")\n",
    "            if len(birth) == 4:\n",
    "                break\n",
    "        return birth\n",
    "         \n",
    "\n",
    "custlist=[]\n",
    "user_info =UserInfo()"
   ]
  },
  {
   "cell_type": "code",
   "execution_count": 9,
   "id": "75b4973d-3e62-4eb2-9868-acccf7586104",
   "metadata": {},
   "outputs": [
    {
     "data": {
      "text/plain": [
       "[{'Gender': 'M', 'Email': '22@nn', 'Birthday': '1234'}]"
      ]
     },
     "execution_count": 9,
     "metadata": {},
     "output_type": "execute_result"
    }
   ],
   "source": [
    "custlist"
   ]
  },
  {
   "cell_type": "code",
   "execution_count": null,
   "id": "f56f29f8-80ba-4be6-8c0c-71e1af15f952",
   "metadata": {},
   "outputs": [],
   "source": []
  }
 ],
 "metadata": {
  "kernelspec": {
   "display_name": "Python 3 (ipykernel)",
   "language": "python",
   "name": "python3"
  },
  "language_info": {
   "codemirror_mode": {
    "name": "ipython",
    "version": 3
   },
   "file_extension": ".py",
   "mimetype": "text/x-python",
   "name": "python",
   "nbconvert_exporter": "python",
   "pygments_lexer": "ipython3",
   "version": "3.11.7"
  }
 },
 "nbformat": 4,
 "nbformat_minor": 5
}

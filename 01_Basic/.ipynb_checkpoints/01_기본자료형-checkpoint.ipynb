{
 "cells": [
  {
   "cell_type": "markdown",
   "id": "fcaff508-0e8f-4f9e-8216-9fef83eef6b2",
   "metadata": {},
   "source": [
    "<H1>\n",
    "    그렇습니다\n",
    "</H1> "
   ]
  },
  {
   "cell_type": "code",
   "execution_count": 3,
   "id": "d831da24-4a40-469b-a2c7-bc034acd23a1",
   "metadata": {},
   "outputs": [
    {
     "data": {
      "text/plain": [
       "123"
      ]
     },
     "execution_count": 3,
     "metadata": {},
     "output_type": "execute_result"
    }
   ],
   "source": [
    "a= 123\n",
    "a"
   ]
  },
  {
   "cell_type": "code",
   "execution_count": 4,
   "id": "01674bf3-001a-4e77-b5b0-bd36c9d57c3f",
   "metadata": {},
   "outputs": [],
   "source": [
    "b= 111"
   ]
  },
  {
   "cell_type": "code",
   "execution_count": null,
   "id": "07a128a7-5da6-46e5-8d25-252eec89f737",
   "metadata": {},
   "outputs": [],
   "source": []
  },
  {
   "cell_type": "markdown",
   "id": "88757ff2-da1c-479c-ae4b-40dae0fc392a",
   "metadata": {},
   "source": [
    "# 기본 데이터 타입"
   ]
  },
  {
   "cell_type": "code",
   "execution_count": 5,
   "id": "c31eefd7-55ae-4655-84a1-cacf6f217600",
   "metadata": {},
   "outputs": [],
   "source": [
    "result =[7,14,28,10,20,30] "
   ]
  },
  {
   "cell_type": "code",
   "execution_count": 6,
   "id": "b9bee4c2-7b8c-441a-a2ee-7d2e7119d992",
   "metadata": {},
   "outputs": [
    {
     "data": {
      "text/plain": [
       "[7, 14, 28, 10, 20, 30]"
      ]
     },
     "execution_count": 6,
     "metadata": {},
     "output_type": "execute_result"
    }
   ],
   "source": [
    "result[:6]"
   ]
  },
  {
   "cell_type": "code",
   "execution_count": 13,
   "id": "4165825b-736b-487f-b72b-fdbd38f5a27f",
   "metadata": {},
   "outputs": [
    {
     "data": {
      "text/plain": [
       "[7, 10, 14, 20, 21, 30, 28, 40, 35, 50]"
      ]
     },
     "execution_count": 13,
     "metadata": {},
     "output_type": "execute_result"
    }
   ],
   "source": [
    "n=6\n",
    "times =[7,10]\n",
    "result = []\n",
    "\n",
    "for di in range(1,n):\n",
    "    for a in times:\n",
    "        result.append(a*di)\n",
    "\n",
    "result"
   ]
  },
  {
   "cell_type": "markdown",
   "id": "ac671beb-bb83-4a64-810d-2393d1ed0a74",
   "metadata": {},
   "source": [
    "그래도 "
   ]
  },
  {
   "cell_type": "markdown",
   "id": "ae7a4d44-4e9d-4219-a9d6-4b79e9f68647",
   "metadata": {},
   "source": [
    "박스당 3개씩 들어가는 과일이있다.\n",
    "전체 과일의 갯수를 입력받아 몇 받스 몇개가 남는지 출력하시오."
   ]
  },
  {
   "cell_type": "markdown",
   "id": "1577c80a-8103-4df1-9f0d-c63765ff55d7",
   "metadata": {},
   "source": [
    "전체 과일을 입력받을 변수   \n",
    "계산할 식  \n",
    "출력문"
   ]
  },
  {
   "cell_type": "markdown",
   "id": "90e14ec8-cf09-4469-9800-0a0b639dc0f6",
   "metadata": {},
   "source": [
    "만약 아무것도 상관없이 값만 출력하는 것이라면  \n",
    "print(n//3, n%3) 로 출력해도 우리가 알아볼 수 있겠지만  \n",
    "대상자가 사람이라면 알맞는 단위도 같이 포함해서 표현하는 것이 좋겠죠"
   ]
  },
  {
   "cell_type": "code",
   "execution_count": 22,
   "id": "4d6dabbb-274f-460c-9db4-65b338a8fe7d",
   "metadata": {},
   "outputs": [
    {
     "name": "stdin",
     "output_type": "stream",
     "text": [
      " 20\n"
     ]
    },
    {
     "name": "stdout",
     "output_type": "stream",
     "text": [
      "6 박스\n",
      "2 개\n"
     ]
    }
   ],
   "source": [
    "n = int(input())\n",
    "print(n//3,\"박스\")\n",
    "print(n%3,\"개\")"
   ]
  },
  {
   "cell_type": "markdown",
   "id": "3c83d918-23c6-4a55-b2ae-58125d4d1fb8",
   "metadata": {},
   "source": [
    "하지만 단위를 붙어서 출력하는데 숫자 뒤에 단위가 자동으로 띄워쓰기가 되는것이  \n",
    "살짝 불편하다 싶을때 사용 하는것이 str.format() 메소드 사용할 수 있다."
   ]
  },
  {
   "cell_type": "code",
   "execution_count": 23,
   "id": "76d56e4a-ea5c-4fd8-8c36-54d641c8ef50",
   "metadata": {},
   "outputs": [
    {
     "name": "stdin",
     "output_type": "stream",
     "text": [
      " 20\n"
     ]
    },
    {
     "name": "stdout",
     "output_type": "stream",
     "text": [
      "6박스\n",
      "2개\n"
     ]
    }
   ],
   "source": [
    "n = int(input())\n",
    "print(\"{0}박스\".format(n//3))\n",
    "print(\"{0}개\".format(n%3))"
   ]
  },
  {
   "cell_type": "markdown",
   "id": "81793ef4-0033-44fa-9136-0864df5e5e23",
   "metadata": {},
   "source": [
    "f 문자열 포매팅 : f-string 을 사용하는 방법도 있습니다"
   ]
  },
  {
   "cell_type": "code",
   "execution_count": 24,
   "id": "98052ae8-fa8e-4f76-9ae8-b5427bf0d735",
   "metadata": {},
   "outputs": [
    {
     "name": "stdin",
     "output_type": "stream",
     "text": [
      "과일 개수를 입력하시오 : 20\n"
     ]
    },
    {
     "name": "stdout",
     "output_type": "stream",
     "text": [
      "6박스 2개\n"
     ]
    }
   ],
   "source": [
    "n = int(input(\"과일 개수를 입력하시오 :\"))\n",
    "print(f\"{n//3}박스 {n%3}개\")"
   ]
  },
  {
   "cell_type": "code",
   "execution_count": null,
   "id": "d8456356-7f62-4ee7-8109-ca38ac0cf145",
   "metadata": {},
   "outputs": [],
   "source": []
  }
 ],
 "metadata": {
  "kernelspec": {
   "display_name": "Python 3 (ipykernel)",
   "language": "python",
   "name": "python3"
  },
  "language_info": {
   "codemirror_mode": {
    "name": "ipython",
    "version": 3
   },
   "file_extension": ".py",
   "mimetype": "text/x-python",
   "name": "python",
   "nbconvert_exporter": "python",
   "pygments_lexer": "ipython3",
   "version": "3.11.7"
  }
 },
 "nbformat": 4,
 "nbformat_minor": 5
}
